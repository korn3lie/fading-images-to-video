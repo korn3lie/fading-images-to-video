{
 "cells": [
  {
   "cell_type": "markdown",
   "metadata": {},
   "source": [
    "### __Create a video from two images with fading effect with OpenCV library__"
   ]
  },
  {
   "cell_type": "code",
   "execution_count": 1,
   "metadata": {},
   "outputs": [],
   "source": [
    "import cv2\n",
    "import numpy as np"
   ]
  },
  {
   "cell_type": "markdown",
   "metadata": {},
   "source": [
    "A function for the transition phase"
   ]
  },
  {
   "cell_type": "code",
   "execution_count": 2,
   "metadata": {},
   "outputs": [],
   "source": [
    "def transition_fade(img1, img2, frames):\n",
    "    # input 2 images (numpy.ndarrays) and number of frames (int)\n",
    "    # returns a list of numpy.ndarrays\n",
    "\n",
    "    img_list = []\n",
    "\n",
    "    increment = 1\n",
    "    for i in np.linspace(0, increment, frames):\n",
    "        increment += 1  # optional: incremental increment for an accelerating fade effect\n",
    "        alpha = i \n",
    "        beta = 1 - alpha\n",
    "        # a function that blends the two images based on the weights alpha and beta\n",
    "        output = cv2.addWeighted(img2, alpha, img1, beta, 0)    \n",
    "        img_list.append(output)\n",
    "    \n",
    "    return img_list"
   ]
  },
  {
   "cell_type": "markdown",
   "metadata": {},
   "source": [
    "A function for the sustain phase"
   ]
  },
  {
   "cell_type": "code",
   "execution_count": 3,
   "metadata": {},
   "outputs": [],
   "source": [
    "def sustain(img,frames):\n",
    "    # input an image (numpy.ndarray) and number of frames (int)\n",
    "    # returns a list of numpy.ndarrays\n",
    "    \n",
    "    img_list = []\n",
    "    for i in range(frames):\n",
    "        img_list.append(img)\n",
    "\n",
    "    return img_list"
   ]
  },
  {
   "cell_type": "code",
   "execution_count": 4,
   "metadata": {},
   "outputs": [
    {
     "name": "stdout",
     "output_type": "stream",
     "text": [
      " 2099  of  2100  done"
     ]
    }
   ],
   "source": [
    "img_path1 =  'image1_.jpg'\n",
    "img_path2 =  'image2_.jpg'\n",
    "\n",
    "# make sure the images aspect ratio matches the output aspect ratio\n",
    "output_resolution = (1080, 1920)    \n",
    "output_path = 'result.mp4'\n",
    "\n",
    "\n",
    "image1 = cv2.imread(img_path1, 1)\n",
    "image2 = cv2.imread(img_path2, 1)\n",
    "\n",
    "img1 = cv2.resize(image1, output_resolution)\n",
    "img2 = cv2.resize(image2, output_resolution)\n",
    "\n",
    "img_list = []\n",
    "frames_fade = 600\n",
    "frames_sustain = 100\n",
    "fps_video = 150     #frames per second for the video\n",
    "\n",
    "# this is simply a concatenation of lists returned by the functions\n",
    "img_list += transition_fade(img1, img2, frames_fade)\n",
    "img_list += sustain(img2, frames_sustain)\n",
    "\n",
    "img_list += transition_fade(img2, img1, frames_fade)\n",
    "img_list += sustain(img1, frames_sustain)\n",
    "\n",
    "img_list += transition_fade(img1, img2, frames_fade)\n",
    "img_list += sustain(img2, frames_sustain)\n",
    "\n",
    "# video part      \n",
    "out = cv2.VideoWriter(  output_path,\n",
    "                        cv2.VideoWriter_fourcc(*'DIVX'),\n",
    "                        fps_video, \n",
    "                        output_resolution)\n",
    " \n",
    "n = len(img_list)\n",
    "for i in range(n):\n",
    "\n",
    "    out.write(img_list[i])\n",
    "    print ('\\r', i, ' of ', n, ' done', end='')\n",
    "\n",
    "out.release()"
   ]
  }
 ],
 "metadata": {
  "kernelspec": {
   "display_name": "base",
   "language": "python",
   "name": "python3"
  },
  "language_info": {
   "codemirror_mode": {
    "name": "ipython",
    "version": 3
   },
   "file_extension": ".py",
   "mimetype": "text/x-python",
   "name": "python",
   "nbconvert_exporter": "python",
   "pygments_lexer": "ipython3",
   "version": "3.10.13"
  }
 },
 "nbformat": 4,
 "nbformat_minor": 2
}
